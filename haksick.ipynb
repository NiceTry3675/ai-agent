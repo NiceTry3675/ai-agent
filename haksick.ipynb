{
 "cells": [
  {
   "cell_type": "code",
   "execution_count": 4,
   "metadata": {},
   "outputs": [
    {
     "name": "stderr",
     "output_type": "stream",
     "text": [
      "c:\\Users\\h\\AppData\\Local\\Programs\\Python\\Python311\\Lib\\site-packages\\urllib3\\connectionpool.py:1045: InsecureRequestWarning: Unverified HTTPS request is being made to host 'www.hs.ac.kr'. Adding certificate verification is strongly advised. See: https://urllib3.readthedocs.io/en/1.26.x/advanced-usage.html#ssl-warnings\n",
      "  warnings.warn(\n",
      "c:\\Users\\h\\AppData\\Local\\Programs\\Python\\Python311\\Lib\\site-packages\\urllib3\\connectionpool.py:1045: InsecureRequestWarning: Unverified HTTPS request is being made to host 'www.hs.ac.kr'. Adding certificate verification is strongly advised. See: https://urllib3.readthedocs.io/en/1.26.x/advanced-usage.html#ssl-warnings\n",
      "  warnings.warn(\n",
      "c:\\Users\\h\\AppData\\Local\\Programs\\Python\\Python311\\Lib\\site-packages\\urllib3\\connectionpool.py:1045: InsecureRequestWarning: Unverified HTTPS request is being made to host 'www.hs.ac.kr'. Adding certificate verification is strongly advised. See: https://urllib3.readthedocs.io/en/1.26.x/advanced-usage.html#ssl-warnings\n",
      "  warnings.warn(\n"
     ]
    },
    {
     "name": "stdout",
     "output_type": "stream",
     "text": [
      "raw.jpeg\n"
     ]
    },
    {
     "name": "stderr",
     "output_type": "stream",
     "text": [
      "c:\\Users\\h\\AppData\\Local\\Programs\\Python\\Python311\\Lib\\site-packages\\urllib3\\connectionpool.py:1045: InsecureRequestWarning: Unverified HTTPS request is being made to host 'www.hs.ac.kr'. Adding certificate verification is strongly advised. See: https://urllib3.readthedocs.io/en/1.26.x/advanced-usage.html#ssl-warnings\n",
      "  warnings.warn(\n"
     ]
    },
    {
     "name": "stdout",
     "output_type": "stream",
     "text": [
      "raw.jpeg\n",
      "raw.jpeg\n"
     ]
    },
    {
     "name": "stderr",
     "output_type": "stream",
     "text": [
      "c:\\Users\\h\\AppData\\Local\\Programs\\Python\\Python311\\Lib\\site-packages\\urllib3\\connectionpool.py:1045: InsecureRequestWarning: Unverified HTTPS request is being made to host 'www.hs.ac.kr'. Adding certificate verification is strongly advised. See: https://urllib3.readthedocs.io/en/1.26.x/advanced-usage.html#ssl-warnings\n",
      "  warnings.warn(\n"
     ]
    }
   ],
   "source": [
    "import requests\n",
    "from bs4 import BeautifulSoup\n",
    "url = \"https://www.hs.ac.kr/kor/8398/subview.do\"    #한신대 식단표 게시판 고정 주소\n",
    "res = requests.get(url, verify=False)  #주소 들어가서 정보 읽기 #verify=False: SSL 인증서 검증 안함, 한신대는 SSL 인증서가 없음\n",
    "res.raise_for_status()  #문제가 있으면 프로그램 종료\n",
    "soup = BeautifulSoup(res.text, \"html.parser\")   #html.parser: html 문서를 파싱하는데 사용되는 파서\n",
    "link = soup.find(attrs={\"class\":\"artclLinkView\"})   #class가 artclLinkView인 태그를 찾음, 가장 최신글의 링크가 들어있음\n",
    "url2='https://www.hs.ac.kr%s'%link[\"href\"]   #한신대 식단표 게시판 최신 게시글 링크 가져오기(기본적으로 난수로 되어있음)\n",
    "\n",
    "#이미지 크롤링\n",
    "html=requests.get(url2, verify=False).text  #최신게시글 들어가서 정보 읽기\n",
    "soup=BeautifulSoup(html,'html.parser')  \n",
    "img=soup.select('img')  #img 태그 모두 가져오기\n",
    "\n",
    "#이미지 저장\n",
    "for i in img:   #img 태그 모두 반복, 그러나 식단표 이미지는 1개만 있기 때문에 1번만 반복, 범용성(다른 코드에 쓸 경우)을 위해 for문 사용\n",
    "    img_url=i['src']    #img 태그의 src 속성값 가져오기\n",
    "    img_name='raw.jpeg' #이미지 이름 지정\n",
    "    img_data=requests.get(img_url, verify=False).content    #이미지 데이터 가져오기\n",
    "    with open(img_name, 'wb') as f: #이미지 저장\n",
    "        f.write(img_data)   \n",
    "    print(img_name) #이미지 이름 출력\n",
    "    "
   ]
  }
 ],
 "metadata": {
  "kernelspec": {
   "display_name": "Python 3",
   "language": "python",
   "name": "python3"
  },
  "language_info": {
   "codemirror_mode": {
    "name": "ipython",
    "version": 3
   },
   "file_extension": ".py",
   "mimetype": "text/x-python",
   "name": "python",
   "nbconvert_exporter": "python",
   "pygments_lexer": "ipython3",
   "version": "3.11.0"
  }
 },
 "nbformat": 4,
 "nbformat_minor": 2
}
